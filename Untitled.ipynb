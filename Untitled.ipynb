{
 "cells": [
  {
   "cell_type": "markdown",
   "id": "6ac3928f",
   "metadata": {},
   "source": [
    "# CMB"
   ]
  },
  {
   "cell_type": "markdown",
   "id": "f25de671",
   "metadata": {},
   "source": [
    "O universo é uniformemente brilhante para uma temperatura de 2.7255K. A densidade de energia da CBM,dado por:\n",
    "\n",
    "$$\\epsilon_{\\gamma,0} = 0.2606 \\text{MeVm}^{-3}$$\n",
    "\n",
    "É apenas uma parte em 19000 da densidade crítica do universo. Contudo, uma vez que a energia por fóton de CMB é pequena ($hf = 6.34 \\cdot 10^{-4}\\text{m}^{-3}$), a densidade de fótons de CMB do universo é grande:\n",
    "\n",
    "$$n_{\\gamma, 0} = 4.107 \\cdot 10^{8} \\text{m}^{-3}$$\n",
    "\n",
    "Se compararmos a densidade de energia em fótons, com a densidade de energia em Bárions, temos que que a densidade de energia de bários é cerca de 900 vezes maior. Por sua vez, dada a densidade de energia de Bários ser tão grande, a densidade de energia de Bários é muito menor que a densidade de energia de fótons.\n",
    "\n",
    "Existem muito mais fótons no universo que Bários, numa ordem de 1 para 1.6 bilhões."
   ]
  },
  {
   "cell_type": "markdown",
   "id": "55cd3161",
   "metadata": {},
   "source": [
    "## Observando a CMB"
   ]
  },
  {
   "cell_type": "code",
   "execution_count": null,
   "id": "62c76aa6",
   "metadata": {},
   "outputs": [],
   "source": []
  }
 ],
 "metadata": {
  "kernelspec": {
   "display_name": "Python 3 (ipykernel)",
   "language": "python",
   "name": "python3"
  },
  "language_info": {
   "codemirror_mode": {
    "name": "ipython",
    "version": 3
   },
   "file_extension": ".py",
   "mimetype": "text/x-python",
   "name": "python",
   "nbconvert_exporter": "python",
   "pygments_lexer": "ipython3",
   "version": "3.10.6"
  }
 },
 "nbformat": 4,
 "nbformat_minor": 5
}
