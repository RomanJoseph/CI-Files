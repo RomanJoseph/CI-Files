{
 "cells": [
  {
   "cell_type": "code",
   "execution_count": 1,
   "metadata": {},
   "outputs": [],
   "source": [
    "import numpy as np\n",
    "import healpy as hp\n",
    "import math\n",
    "import time\n",
    "import normsandangles\n",
    "import matplotlib as mpl\n",
    "import matplotlib.pyplot as plt\n",
    "import matplotlib.mlab as mlab\n",
    "import multiprocessing as mp\n",
    "from joblib import Parallel, delayed\n",
    "from pylab import arange, show, cm\n",
    "import scipy\n",
    "from scipy import special\n",
    "\n",
    "%matplotlib inline\n",
    "mpl.rcParams.update({'font.size':12})\n",
    "\n",
    "#https://stackoverflow.com/questions/34023932/mollview-use-matplotlib-colormaps-and-change-background-color\n",
    "cmap = cm.jet #stores old healpy colloring scheme (cmap='jet')\n",
    "cmap.set_under('w')\n",
    "\n",
    "plt.rc('text', usetex=True)\n",
    "plt.rc('font', family='serif')"
   ]
  },
  {
   "cell_type": "markdown",
   "metadata": {},
   "source": [
    "## Sem paralelismo"
   ]
  },
  {
   "cell_type": "code",
   "execution_count": 45,
   "metadata": {},
   "outputs": [],
   "source": [
    "def phi_of_k_cart(norms_and_vecs):\n",
    "\n",
    "    phi_rand = []\n",
    "    phi_k_dict = {}\n",
    "    for norm in norms_and_vecs.keys():\n",
    "        phi_rand = np.random.randn(8,len(norms_and_vecs[norm]))#we need 8 independent random vectors. See pdf for details\n",
    "        phi_k_dict.update({norm:phi_rand})\n",
    "    return phi_k_dict\n",
    "\n",
    "def phi_of_x_cart(Lsize,x,y,z,norms_and_vecs,Phi_k_dict,alpha):\n",
    "    \n",
    "    Phi_x = 0.0 #Initial value of \\Phi(\\vec{x})\n",
    "    prefactor = 0.0\n",
    "    R = 1.0 #Radius of the CMB surface\n",
    "    A = 1.0 #Amplitude of the Power Spectrum\n",
    "    \n",
    "    for norm in norms_and_vecs.keys():\n",
    "        \n",
    "        k = 2.0*math.pi*norm/Lsize/alpha#norm of Fourier vector\n",
    "        sqrt_Pspec = math.sqrt(A*(k**(-3.0)))#Square-root of Harrison-Zeldovich Power-spectrum\n",
    "        khat = np.transpose(norms_and_vecs[norm])# unit Fourier vectors\n",
    "        \n",
    "        cos_gamma1 = np.dot(np.array([x,y,z]),khat) \n",
    "        # dot of \\hat{x} and \\hat{k} in exp(ix.k) in the first octant        \n",
    "        cos_gamma2 = np.dot(np.array([x,-y,z]),khat) \n",
    "        # dot of \\hat{x} and \\hat{k} in exp(ix.k) in the 2nd octant: y -> - y        \n",
    "        cos_gamma3 = np.dot(np.array([-x,-y,z]),khat) \n",
    "        # dot of \\hat{x} and \\hat{k} in exp(ix.k) in the 3rd octant: x, y -> -x, -y        \n",
    "        cos_gamma4 = np.dot(np.array([-x,y,z]),khat) \n",
    "        # dot of \\hat{x} and \\hat{k} in exp(ix.k) in the 4th octant: x -> -x \n",
    "        \n",
    "        prefactor = 2*(np.cos(k*R*cos_gamma1)*Phi_k_dict[norm][0]-np.sin(k*R*cos_gamma1)*Phi_k_dict[norm][1] + \\\n",
    "                    np.cos(k*R*cos_gamma2)*Phi_k_dict[norm][2]-np.sin(k*R*cos_gamma2)*Phi_k_dict[norm][3] + \\\n",
    "                    np.cos(k*R*cos_gamma3)*Phi_k_dict[norm][4]-np.sin(k*R*cos_gamma3)*Phi_k_dict[norm][5] + \\\n",
    "                    np.cos(k*R*cos_gamma4)*Phi_k_dict[norm][6]-np.sin(k*R*cos_gamma4)*Phi_k_dict[norm][7])\n",
    "        prefactor = np.sum(prefactor) #sum over all angles with fixed nnorm\n",
    "        \n",
    "        Phi_x += sqrt_Pspec*prefactor #sum over norms\n",
    "    return Phi_x\n",
    "\n",
    "def phi_map_cart(Nside,nmax,Lsize,alpha,seed):\n",
    "    np.random.seed(seed) # fixes random seed, for debugging\n",
    "    normvecs_dict = normsandangles.vector_n(nmax,alpha) #initialize norms and vectors\n",
    "    randphi_dict = phi_of_k_cart(normvecs_dict) #initialize random values of \\phi(\\vec{k})\n",
    "    phi_in_pixel = []\n",
    "    pixels = np.arange(hp.nside2npix(Nside))\n",
    "    for x,y,z in np.transpose(hp.pix2vec(Nside,pixels)):\n",
    "        phi_in_pixel.append(phi_of_x_cart(Lsize,x,y,z,normvecs_dict,randphi_dict,alpha))\n",
    "    return np.array(phi_in_pixel)"
   ]
  },
  {
   "cell_type": "code",
   "execution_count": 46,
   "metadata": {},
   "outputs": [
    {
     "name": "stdout",
     "output_type": "stream",
     "text": [
      "CPU times: user 3min 42s, sys: 3.66 ms, total: 3min 42s\n",
      "Wall time: 3min 42s\n"
     ]
    }
   ],
   "source": [
    "%%time\n",
    "mapa1 = phi_map_cart(64,6,0.1,4,1)"
   ]
  },
  {
   "cell_type": "markdown",
   "metadata": {},
   "source": [
    "## Com paralelismo"
   ]
  },
  {
   "cell_type": "code",
   "execution_count": 47,
   "metadata": {},
   "outputs": [],
   "source": [
    "def phi_of_x_cart(Lsize,x,y,z,norms_and_vecs,Phi_k_dict,alpha):\n",
    "    Phi_x = 0.0 #Initial value of \\Phi(\\vec{x})\n",
    "    prefactor = 0.0\n",
    "    R = 1.0 #Radius of the CMB surface\n",
    "    A = 1.0 #Amplitude of the Power Spectrum\n",
    "    \n",
    "    for norm in norms_and_vecs.keys():\n",
    "        \n",
    "        k = 2.0*math.pi*norm/Lsize/alpha#norm of Fourier vector\n",
    "        sqrt_Pspec = math.sqrt(A*(k**(-3.0)))#Square-root of Harrison-Zeldovich Power-spectrum\n",
    "        khat = np.transpose(norms_and_vecs[norm])# unit Fourier vectors\n",
    "        \n",
    "        cos_gamma1 = np.dot(np.array([x,y,z]),khat) \n",
    "        # dot of \\hat{x} and \\hat{k} in exp(ix.k) in the first octant        \n",
    "        cos_gamma2 = np.dot(np.array([x,-y,z]),khat) \n",
    "        # dot of \\hat{x} and \\hat{k} in exp(ix.k) in the 2nd octant: y -> - y        \n",
    "        cos_gamma3 = np.dot(np.array([-x,-y,z]),khat) \n",
    "        # dot of \\hat{x} and \\hat{k} in exp(ix.k) in the 3rd octant: x, y -> -x, -y        \n",
    "        cos_gamma4 = np.dot(np.array([-x,y,z]),khat) \n",
    "        # dot of \\hat{x} and \\hat{k} in exp(ix.k) in the 4th octant: x -> -x \n",
    "        \n",
    "        prefactor = 2*(np.cos(k*R*cos_gamma1)*Phi_k_dict[norm][0]-np.sin(k*R*cos_gamma1)*Phi_k_dict[norm][1] + \\\n",
    "                    np.cos(k*R*cos_gamma2)*Phi_k_dict[norm][2]-np.sin(k*R*cos_gamma2)*Phi_k_dict[norm][3] + \\\n",
    "                    np.cos(k*R*cos_gamma3)*Phi_k_dict[norm][4]-np.sin(k*R*cos_gamma3)*Phi_k_dict[norm][5] + \\\n",
    "                    np.cos(k*R*cos_gamma4)*Phi_k_dict[norm][6]-np.sin(k*R*cos_gamma4)*Phi_k_dict[norm][7])\n",
    "        prefactor = np.sum(prefactor) #sum over all angles with fixed nnorm\n",
    "        \n",
    "        Phi_x += sqrt_Pspec*prefactor #sum over norms\n",
    "    return Phi_x\n",
    "\n",
    "def phi_map_cart_parallel(Nside,nmax,Lsize,alpha,seed):\n",
    "    np.random.seed(seed) # fixes random seed, for debugging\n",
    "    normvecs_dict = normsandangles.vector_n(nmax,alpha) #initialize norms and vectors\n",
    "    randphi_dict = phi_of_k_cart(normvecs_dict) #initialize random values of \\phi(\\vec{k>)\n",
    "    \n",
    "    def phi_of_x_cart_wrapper(xyz):\n",
    "        x, y, z = xyz\n",
    "        return phi_of_x_cart(Lsize, x, y, z, normvecs_dict, randphi_dict, alpha)\n",
    "\n",
    "    n_jobs = multiprocessing.cpu_count()\n",
    "    phi_in_pixel = Parallel(n_jobs=n_jobs)(delayed(phi_of_x_cart_wrapper)(xyz) for xyz in np.transpose(hp.pix2vec(Nside,np.arange(hp.nside2npix(Nside)))))\n",
    "    return np.array(phi_in_pixel)"
   ]
  },
  {
   "cell_type": "code",
   "execution_count": 48,
   "metadata": {},
   "outputs": [
    {
     "name": "stdout",
     "output_type": "stream",
     "text": [
      "CPU times: user 19.2 s, sys: 337 ms, total: 19.5 s\n",
      "Wall time: 1min 21s\n"
     ]
    }
   ],
   "source": [
    "%%time\n",
    "mapa2 = phi_map_cart_parallel(64,6,0.1,4,1)"
   ]
  },
  {
   "cell_type": "markdown",
   "metadata": {},
   "source": [
    "## Checando se os arrays gerados são iguais"
   ]
  },
  {
   "cell_type": "code",
   "execution_count": 49,
   "metadata": {},
   "outputs": [],
   "source": [
    "def is_array_equal(array1,array2):\n",
    "    if len(array1) != len(array2):\n",
    "        return False\n",
    "    for i in range(len(array1)):\n",
    "        if(array1[i] != array2[i]):\n",
    "            return False\n",
    "    return True"
   ]
  },
  {
   "cell_type": "code",
   "execution_count": 50,
   "metadata": {},
   "outputs": [
    {
     "data": {
      "text/plain": [
       "True"
      ]
     },
     "execution_count": 50,
     "metadata": {},
     "output_type": "execute_result"
    }
   ],
   "source": [
    "is_array_equal(mapa1,mapa2)"
   ]
  },
  {
   "cell_type": "code",
   "execution_count": 2,
   "metadata": {},
   "outputs": [],
   "source": [
    "pixels = np.arange(hp.nside2npix(12))"
   ]
  },
  {
   "cell_type": "code",
   "execution_count": 6,
   "metadata": {},
   "outputs": [
    {
     "data": {
      "text/plain": [
       "1727"
      ]
     },
     "execution_count": 6,
     "metadata": {},
     "output_type": "execute_result"
    }
   ],
   "source": [
    "pixels[-1]"
   ]
  },
  {
   "cell_type": "code",
   "execution_count": 10,
   "metadata": {},
   "outputs": [
    {
     "data": {
      "text/plain": [
       "1728"
      ]
     },
     "execution_count": 10,
     "metadata": {},
     "output_type": "execute_result"
    }
   ],
   "source": [
    "12*12*12"
   ]
  },
  {
   "cell_type": "code",
   "execution_count": null,
   "metadata": {},
   "outputs": [],
   "source": []
  }
 ],
 "metadata": {
  "kernelspec": {
   "display_name": "Python 3 (ipykernel)",
   "language": "python",
   "name": "python3"
  },
  "language_info": {
   "codemirror_mode": {
    "name": "ipython",
    "version": 3
   },
   "file_extension": ".py",
   "mimetype": "text/x-python",
   "name": "python",
   "nbconvert_exporter": "python",
   "pygments_lexer": "ipython3",
   "version": "3.10.6"
  }
 },
 "nbformat": 4,
 "nbformat_minor": 4
}
