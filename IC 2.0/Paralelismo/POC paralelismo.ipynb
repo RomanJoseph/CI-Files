{
 "cells": [
  {
   "cell_type": "code",
   "execution_count": 4,
   "id": "de2972b8",
   "metadata": {},
   "outputs": [],
   "source": [
    "from multiprocessing import Pool, cpu_count"
   ]
  },
  {
   "cell_type": "code",
   "execution_count": 5,
   "id": "cbaa6273",
   "metadata": {},
   "outputs": [],
   "source": [
    "def fatorial(n):\n",
    "    resultado = 1\n",
    "    for i in range(1, n + 1):\n",
    "        resultado *= i\n",
    "    return resultado"
   ]
  },
  {
   "cell_type": "code",
   "execution_count": 6,
   "id": "b9872ab6",
   "metadata": {},
   "outputs": [],
   "source": [
    "valores = [100000,100000,100000,100000,100000]"
   ]
  },
  {
   "cell_type": "code",
   "execution_count": 7,
   "id": "6236512f",
   "metadata": {},
   "outputs": [
    {
     "name": "stdout",
     "output_type": "stream",
     "text": [
      "CPU times: user 8.5 s, sys: 0 ns, total: 8.5 s\n",
      "Wall time: 8.5 s\n"
     ]
    }
   ],
   "source": [
    "%%time\n",
    "r = list(map(fatorial, valores))"
   ]
  },
  {
   "cell_type": "code",
   "execution_count": 17,
   "id": "fc58998f",
   "metadata": {},
   "outputs": [
    {
     "name": "stdout",
     "output_type": "stream",
     "text": [
      "CPU times: user 4.79 ms, sys: 20.1 ms, total: 24.9 ms\n",
      "Wall time: 3.66 s\n"
     ]
    }
   ],
   "source": [
    "%%time\n",
    "with Pool(processes=4) as pool:\n",
    "    resultado = pool.map(fatorial,valores)"
   ]
  },
  {
   "cell_type": "code",
   "execution_count": 9,
   "id": "b57e2f6e",
   "metadata": {},
   "outputs": [
    {
     "name": "stdout",
     "output_type": "stream",
     "text": [
      "CPU times: user 19.4 ms, sys: 12 ms, total: 31.4 ms\n",
      "Wall time: 2.48 s\n"
     ]
    }
   ],
   "source": [
    "%%time\n",
    "with Pool(processes=8) as pool:\n",
    "    resultado = pool.map(fatorial,valores)"
   ]
  },
  {
   "cell_type": "code",
   "execution_count": null,
   "id": "ebecdaaf",
   "metadata": {},
   "outputs": [],
   "source": []
  }
 ],
 "metadata": {
  "kernelspec": {
   "display_name": "Python 3 (ipykernel)",
   "language": "python",
   "name": "python3"
  },
  "language_info": {
   "codemirror_mode": {
    "name": "ipython",
    "version": 3
   },
   "file_extension": ".py",
   "mimetype": "text/x-python",
   "name": "python",
   "nbconvert_exporter": "python",
   "pygments_lexer": "ipython3",
   "version": "3.10.6"
  }
 },
 "nbformat": 4,
 "nbformat_minor": 5
}
