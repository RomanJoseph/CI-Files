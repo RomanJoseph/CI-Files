{
 "cells": [
  {
   "cell_type": "code",
   "execution_count": 2,
   "id": "74a0f959",
   "metadata": {},
   "outputs": [],
   "source": [
    "import cython_sum as cs"
   ]
  },
  {
   "cell_type": "code",
   "execution_count": 6,
   "id": "ae749e74",
   "metadata": {},
   "outputs": [
    {
     "name": "stdout",
     "output_type": "stream",
     "text": [
      "CPU times: user 35 s, sys: 149 ms, total: 35.1 s\n",
      "Wall time: 34.7 s\n"
     ]
    },
    {
     "data": {
      "text/plain": [
       "932356074711512064"
      ]
     },
     "execution_count": 6,
     "metadata": {},
     "output_type": "execute_result"
    }
   ],
   "source": [
    "%%time\n",
    "cs.sum_cython(10e10)"
   ]
  },
  {
   "cell_type": "code",
   "execution_count": 9,
   "id": "864d82fd",
   "metadata": {},
   "outputs": [],
   "source": [
    "def sum_python(n):\n",
    "    total = 0\n",
    "    for i in range(1, n + 1):\n",
    "        total += 1\n",
    "    return total"
   ]
  },
  {
   "cell_type": "code",
   "execution_count": 14,
   "id": "b0f599eb",
   "metadata": {},
   "outputs": [
    {
     "name": "stdout",
     "output_type": "stream",
     "text": [
      "CPU times: user 1h 3min 33s, sys: 172 ms, total: 1h 3min 33s\n",
      "Wall time: 1h 3min 33s\n"
     ]
    },
    {
     "data": {
      "text/plain": [
       "100000000000"
      ]
     },
     "execution_count": 14,
     "metadata": {},
     "output_type": "execute_result"
    }
   ],
   "source": [
    "%%time\n",
    "sum_python(int(10e10))"
   ]
  },
  {
   "cell_type": "code",
   "execution_count": 11,
   "id": "fcd337d4",
   "metadata": {},
   "outputs": [
    {
     "data": {
      "text/plain": [
       "100000000000.0"
      ]
     },
     "execution_count": 11,
     "metadata": {},
     "output_type": "execute_result"
    }
   ],
   "source": [
    "10e10"
   ]
  },
  {
   "cell_type": "code",
   "execution_count": null,
   "id": "e9098e57",
   "metadata": {},
   "outputs": [],
   "source": []
  }
 ],
 "metadata": {
  "kernelspec": {
   "display_name": "Python 3 (ipykernel)",
   "language": "python",
   "name": "python3"
  },
  "language_info": {
   "codemirror_mode": {
    "name": "ipython",
    "version": 3
   },
   "file_extension": ".py",
   "mimetype": "text/x-python",
   "name": "python",
   "nbconvert_exporter": "python",
   "pygments_lexer": "ipython3",
   "version": "3.10.6"
  }
 },
 "nbformat": 4,
 "nbformat_minor": 5
}
