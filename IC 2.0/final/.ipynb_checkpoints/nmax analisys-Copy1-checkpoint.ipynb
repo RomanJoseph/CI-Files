{
 "cells": [
  {
   "cell_type": "code",
   "execution_count": 1,
   "id": "33da6377",
   "metadata": {},
   "outputs": [],
   "source": [
    "import slab_topology as tp\n",
    "import matplotlib.pyplot as plt\n",
    "import numpy as np"
   ]
  },
  {
   "cell_type": "raw",
   "id": "d417d278",
   "metadata": {},
   "source": [
    "%%time\n",
    "\n",
    "maps = [tp.generate_map(16, i, 1,1,1) for i in range(10,21)]"
   ]
  },
  {
   "cell_type": "code",
   "execution_count": 36,
   "id": "61d7cd7a",
   "metadata": {},
   "outputs": [],
   "source": [
    "def mediana_da_diferenca(array1, array2):\n",
    "    diferenca = abs(array1 - array2)\n",
    "    np.sort(diferenca)\n",
    "    return (diferenca[int(len(diferenca)/2)])\n",
    "\n",
    "def media_da_diferenca(array1,array2):\n",
    "    diferenca = array1 - array2\n",
    "    media = sum(diferenca)/len(diferenca)\n",
    "    return media"
   ]
  },
  {
   "cell_type": "code",
   "execution_count": 37,
   "id": "1ebf6a51",
   "metadata": {},
   "outputs": [],
   "source": [
    "medianas = [mediana_da_diferenca(maps[i], maps[i+1]) for i in range(10)]\n",
    "medias = [media_da_diferenca(maps[i], maps[i + 1]) for i in range(10)]"
   ]
  },
  {
   "cell_type": "code",
   "execution_count": 50,
   "id": "534ccb99",
   "metadata": {},
   "outputs": [
    {
     "data": {
      "image/png": "[encoded data removed]",
      "text/plain": [
       "<Figure size 432x288 with 1 Axes>"
      ]
     },
     "metadata": {
      "needs_background": "light"
     },
     "output_type": "display_data"
    }
   ],
   "source": [
    "x = [i + 1 for i in range(len(medias))]\n",
    "\n",
    "plt.scatter(x, medias, color=\"red\")\n",
    "plt.scatter(x,medianas, color=\"blue\")\n",
    "plt.grid()\n",
    "plt.show()"
   ]
  },
  {
   "cell_type": "code",
   "execution_count": null,
   "id": "cda0457b",
   "metadata": {},
   "outputs": [],
   "source": []
  }
 ],
 "metadata": {
  "kernelspec": {
   "display_name": "Python 3 (ipykernel)",
   "language": "python",
   "name": "python3"
  },
  "language_info": {
   "codemirror_mode": {
    "name": "ipython",
    "version": 3
   },
   "file_extension": ".py",
   "mimetype": "text/x-python",
   "name": "python",
   "nbconvert_exporter": "python",
   "pygments_lexer": "ipython3",
   "version": "3.10.6"
  }
 },
 "nbformat": 4,
 "nbformat_minor": 5
}
