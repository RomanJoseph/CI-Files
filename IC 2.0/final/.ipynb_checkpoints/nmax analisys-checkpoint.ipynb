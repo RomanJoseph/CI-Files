{
 "cells": [
  {
   "cell_type": "code",
   "execution_count": 1,
   "id": "33da6377",
   "metadata": {},
   "outputs": [],
   "source": [
    "import slab_topology as tp\n",
    "import matplotlib.pyplot as plt\n",
    "import numpy as np"
   ]
  },
  {
   "cell_type": "code",
   "execution_count": 3,
   "id": "a571d5e4",
   "metadata": {},
   "outputs": [
    {
     "name": "stdout",
     "output_type": "stream",
     "text": [
      "CPU times: user 7min 57s, sys: 12.3 s, total: 8min 9s\n",
      "Wall time: 9min 1s\n"
     ]
    }
   ],
   "source": [
    "%%time\n",
    "\n",
    "maps = [tp.generate_map(16, i, 1,1,1) for i in range(10,21)]"
   ]
  },
  {
   "cell_type": "code",
   "execution_count": null,
   "id": "dde32213",
   "metadata": {},
   "outputs": [],
   "source": [
    "def mediana(array):\n",
    "    "
   ]
  }
 ],
 "metadata": {
  "kernelspec": {
   "display_name": "Python 3 (ipykernel)",
   "language": "python",
   "name": "python3"
  },
  "language_info": {
   "codemirror_mode": {
    "name": "ipython",
    "version": 3
   },
   "file_extension": ".py",
   "mimetype": "text/x-python",
   "name": "python",
   "nbconvert_exporter": "python",
   "pygments_lexer": "ipython3",
   "version": "3.10.6"
  }
 },
 "nbformat": 4,
 "nbformat_minor": 5
}
